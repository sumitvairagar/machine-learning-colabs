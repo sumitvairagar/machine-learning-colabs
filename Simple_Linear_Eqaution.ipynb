{
  "nbformat": 4,
  "nbformat_minor": 0,
  "metadata": {
    "colab": {
      "name": "Simple Linear Eqaution.ipynb",
      "version": "0.3.2",
      "provenance": [],
      "collapsed_sections": [],
      "include_colab_link": true
    },
    "kernelspec": {
      "name": "python3",
      "display_name": "Python 3"
    }
  },
  "cells": [
    {
      "cell_type": "markdown",
      "metadata": {
        "id": "view-in-github",
        "colab_type": "text"
      },
      "source": [
        "<a href=\"https://colab.research.google.com/github/sumitvairagar/machine-learning-colabs/blob/master/Simple_Linear_Eqaution.ipynb\" target=\"_parent\"><img src=\"https://colab.research.google.com/assets/colab-badge.svg\" alt=\"Open In Colab\"/></a>"
      ]
    },
    {
      "cell_type": "markdown",
      "metadata": {
        "id": "5ZOF6LOvYStl",
        "colab_type": "text"
      },
      "source": [
        "**Simple Linear Eqaution**"
      ]
    },
    {
      "cell_type": "code",
      "metadata": {
        "id": "1-sMM6hhWzge",
        "colab_type": "code",
        "colab": {}
      },
      "source": [
        "import keras\n",
        "import numpy as np"
      ],
      "execution_count": 0,
      "outputs": []
    },
    {
      "cell_type": "code",
      "metadata": {
        "id": "zsCEnLjDWWkg",
        "colab_type": "code",
        "colab": {}
      },
      "source": [
        "model = keras.Sequential([keras.layers.Dense(units=1, input_shape =[1])])\n",
        "model.compile(optimizer = 'sgd', loss = 'mean_squared_error')"
      ],
      "execution_count": 0,
      "outputs": []
    },
    {
      "cell_type": "code",
      "metadata": {
        "id": "IsN6MV7FXLNB",
        "colab_type": "code",
        "colab": {}
      },
      "source": [
        "x = np.array([-1.0, 0, 1.0, 2.0, 3.0, 4.0])\n",
        "y = np.array([-3.0, -1, 1.0, 3.0, 5.0, 7.0])"
      ],
      "execution_count": 0,
      "outputs": []
    },
    {
      "cell_type": "code",
      "metadata": {
        "id": "HB2BiVtVXpSY",
        "colab_type": "code",
        "colab": {
          "base_uri": "https://localhost:8080/",
          "height": 1000
        },
        "outputId": "2f2c36d5-f5f2-4b41-e937-45c22d445790"
      },
      "source": [
        "model.fit(x, y, epochs=500)"
      ],
      "execution_count": 15,
      "outputs": [
        {
          "output_type": "stream",
          "text": [
            "Epoch 1/500\n",
            "6/6 [==============================] - 0s 623us/step - loss: 0.2726\n",
            "Epoch 2/500\n",
            "6/6 [==============================] - 0s 268us/step - loss: 0.2670\n",
            "Epoch 3/500\n",
            "6/6 [==============================] - 0s 345us/step - loss: 0.2615\n",
            "Epoch 4/500\n",
            "6/6 [==============================] - 0s 667us/step - loss: 0.2561\n",
            "Epoch 5/500\n",
            "6/6 [==============================] - 0s 236us/step - loss: 0.2509\n",
            "Epoch 6/500\n",
            "6/6 [==============================] - 0s 219us/step - loss: 0.2457\n",
            "Epoch 7/500\n",
            "6/6 [==============================] - 0s 233us/step - loss: 0.2407\n",
            "Epoch 8/500\n",
            "6/6 [==============================] - 0s 187us/step - loss: 0.2357\n",
            "Epoch 9/500\n",
            "6/6 [==============================] - 0s 221us/step - loss: 0.2309\n",
            "Epoch 10/500\n",
            "6/6 [==============================] - 0s 237us/step - loss: 0.2262\n",
            "Epoch 11/500\n",
            "6/6 [==============================] - 0s 203us/step - loss: 0.2215\n",
            "Epoch 12/500\n",
            "6/6 [==============================] - 0s 210us/step - loss: 0.2170\n",
            "Epoch 13/500\n",
            "6/6 [==============================] - 0s 197us/step - loss: 0.2125\n",
            "Epoch 14/500\n",
            "6/6 [==============================] - 0s 204us/step - loss: 0.2081\n",
            "Epoch 15/500\n",
            "6/6 [==============================] - 0s 200us/step - loss: 0.2039\n",
            "Epoch 16/500\n",
            "6/6 [==============================] - 0s 199us/step - loss: 0.1997\n"
          ],
          "name": "stdout"
        },
        {
          "output_type": "execute_result",
          "data": {
            "text/plain": [
              "<keras.callbacks.History at 0x7fe238008ba8>"
            ]
          },
          "metadata": {
            "tags": []
          },
          "execution_count": 15
        }
      ]
    },
    {
      "cell_type": "code",
      "metadata": {
        "id": "ynER1K6ZXukX",
        "colab_type": "code",
        "colab": {
          "base_uri": "https://localhost:8080/",
          "height": 34
        },
        "outputId": "2e776529-2bd9-4cde-dbf9-8084f9821cbb"
      },
      "source": [
        "print(model.predict([10.0]))"
      ],
      "execution_count": 17,
      "outputs": [
        {
          "output_type": "stream",
          "text": [
            "[[18.991411]]\n"
          ],
          "name": "stdout"
        }
      ]
    }
  ]
}
